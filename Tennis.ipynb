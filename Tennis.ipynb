{
 "cells": [
  {
   "cell_type": "markdown",
   "metadata": {},
   "source": [
    "# Collaboration and Competition\n",
    "\n",
    "---\n",
    "\n",
    "You are welcome to use this coding environment to train your agent for the project.  Follow the instructions below to get started!\n",
    "\n",
    "### 1. Start the Environment\n",
    "\n",
    "Run the next code cell to install a few packages.  This line will take a few minutes to run!"
   ]
  },
  {
   "cell_type": "code",
   "execution_count": 1,
   "metadata": {},
   "outputs": [
    {
     "name": "stdout",
     "output_type": "stream",
     "text": [
      "\u001b[31mtensorflow 1.7.1 has requirement numpy>=1.13.3, but you'll have numpy 1.12.1 which is incompatible.\u001b[0m\r\n",
      "\u001b[31mipython 6.5.0 has requirement prompt-toolkit<2.0.0,>=1.0.15, but you'll have prompt-toolkit 2.0.9 which is incompatible.\u001b[0m\r\n"
     ]
    }
   ],
   "source": [
    "!pip -q install ./python\n",
    "from unityagents import UnityEnvironment\n",
    "import numpy as np\n",
    "import torch\n",
    "from collections import deque\n",
    "import matplotlib.pyplot as plt\n",
    "\n",
    "# Create the Agent\n",
    "from td3_model import Agent"
   ]
  },
  {
   "cell_type": "markdown",
   "metadata": {},
   "source": [
    "The environment is already saved in the Workspace and can be accessed at the file path provided below. "
   ]
  },
  {
   "cell_type": "code",
   "execution_count": 2,
   "metadata": {},
   "outputs": [
    {
     "name": "stderr",
     "output_type": "stream",
     "text": [
      "INFO:unityagents:\n",
      "'Academy' started successfully!\n",
      "Unity Academy name: Academy\n",
      "        Number of Brains: 1\n",
      "        Number of External Brains : 1\n",
      "        Lesson number : 0\n",
      "        Reset Parameters :\n",
      "\t\t\n",
      "Unity brain name: TennisBrain\n",
      "        Number of Visual Observations (per agent): 0\n",
      "        Vector Observation space type: continuous\n",
      "        Vector Observation space size (per agent): 8\n",
      "        Number of stacked Vector Observation: 3\n",
      "        Vector Action space type: continuous\n",
      "        Vector Action space size (per agent): 2\n",
      "        Vector Action descriptions: , \n"
     ]
    }
   ],
   "source": [
    "from unityagents import UnityEnvironment\n",
    "import numpy as np\n",
    "\n",
    "env = UnityEnvironment(file_name=\"/data/Tennis_Linux_NoVis/Tennis\")"
   ]
  },
  {
   "cell_type": "markdown",
   "metadata": {},
   "source": [
    "Environments contain **_brains_** which are responsible for deciding the actions of their associated agents. Here we check for the first brain available, and set it as the default brain we will be controlling from Python."
   ]
  },
  {
   "cell_type": "code",
   "execution_count": 3,
   "metadata": {},
   "outputs": [],
   "source": [
    "# get the default brain\n",
    "brain_name = env.brain_names[0]\n",
    "brain = env.brains[brain_name]"
   ]
  },
  {
   "cell_type": "markdown",
   "metadata": {},
   "source": [
    "### 2. Examine the State and Action Spaces\n",
    "\n",
    "Run the code cell below to print some information about the environment."
   ]
  },
  {
   "cell_type": "code",
   "execution_count": 4,
   "metadata": {},
   "outputs": [
    {
     "name": "stdout",
     "output_type": "stream",
     "text": [
      "Number of agents: 2\n",
      "Size of each action: 2\n",
      "There are 2 agents. Each observes a state with length: 24\n",
      "The state for the first agent looks like: [ 0.          0.          0.          0.          0.          0.          0.\n",
      "  0.          0.          0.          0.          0.          0.          0.\n",
      "  0.          0.         -6.65278625 -1.5        -0.          0.\n",
      "  6.83172083  6.         -0.          0.        ]\n"
     ]
    }
   ],
   "source": [
    "# reset the environment\n",
    "env_info = env.reset(train_mode=True)[brain_name]\n",
    "\n",
    "# number of agents \n",
    "num_agents = len(env_info.agents)\n",
    "print('Number of agents:', num_agents)\n",
    "\n",
    "# size of each action\n",
    "action_size = brain.vector_action_space_size\n",
    "print('Size of each action:', action_size)\n",
    "\n",
    "# examine the state space \n",
    "states = env_info.vector_observations\n",
    "state_size = states.shape[1]\n",
    "print('There are {} agents. Each observes a state with length: {}'.format(states.shape[0], state_size))\n",
    "print('The state for the first agent looks like:', states[0])"
   ]
  },
  {
   "cell_type": "markdown",
   "metadata": {},
   "source": [
    "### 3. Take Random Actions in the Environment\n",
    "\n",
    "In the next code cell, you will learn how to use the Python API to control the agent and receive feedback from the environment.\n",
    "\n",
    "Note that **in this coding environment, you will not be able to watch the agents while they are training**, and you should set `train_mode=True` to restart the environment."
   ]
  },
  {
   "cell_type": "code",
   "execution_count": 5,
   "metadata": {},
   "outputs": [
    {
     "name": "stdout",
     "output_type": "stream",
     "text": [
      "Total score (averaged over agents) this episode: 0.04500000085681677\n",
      "Total score (averaged over agents) this episode: -0.004999999888241291\n",
      "Total score (averaged over agents) this episode: -0.004999999888241291\n",
      "Total score (averaged over agents) this episode: -0.004999999888241291\n",
      "Total score (averaged over agents) this episode: -0.004999999888241291\n"
     ]
    }
   ],
   "source": [
    "for i in range(5):                                         # play game for 5 episodes\n",
    "    env_info = env.reset(train_mode=False)[brain_name]     # reset the environment    \n",
    "    states = env_info.vector_observations                  # get the current state (for each agent)\n",
    "    scores = np.zeros(num_agents)                          # initialize the score (for each agent)\n",
    "    while True:\n",
    "        actions = np.random.randn(num_agents, action_size) # select an action (for each agent)\n",
    "        actions = np.clip(actions, -1, 1)                  # all actions between -1 and 1\n",
    "        env_info = env.step(actions)[brain_name]           # send all actions to tne environment\n",
    "        next_states = env_info.vector_observations         # get next state (for each agent)\n",
    "        rewards = env_info.rewards                         # get reward (for each agent)\n",
    "        dones = env_info.local_done                        # see if episode finished\n",
    "        scores += env_info.rewards                         # update the score (for each agent)\n",
    "        states = next_states                               # roll over states to next time step\n",
    "        if np.any(dones):                                  # exit loop if episode finished\n",
    "            break\n",
    "    print('Total score (averaged over agents) this episode: {}'.format(np.mean(scores)))"
   ]
  },
  {
   "cell_type": "markdown",
   "metadata": {},
   "source": [
    "### 4. Model selected: DDPG - TD3"
   ]
  },
  {
   "cell_type": "markdown",
   "metadata": {},
   "source": [
    "Based on: https://spinningup.openai.com/en/latest/algorithms/td3.html\n",
    "\n",
    "Deep Deterministic Policy Gradient (DDPG) is an algorithm which concurrently learns a Q-function and a policy. It uses off-policy data and the Bellman equation to learn the Q-function, and uses the Q-function to learn the policy.\n",
    "\n",
    "While DDPG can achieve great performance sometimes, it is frequently brittle with respect to hyperparameters and other kinds of tuning. A common failure mode for DDPG is that the learned Q-function begins to dramatically overestimate Q-values, which then leads to the policy breaking, because it exploits the errors in the Q-function. Twin Delayed DDPG (TD3) is an algorithm which addresses this issue by introducing three critical tricks:\n",
    "\n",
    "**Trick One:** Clipped Double-Q Learning. TD3 learns two Q-functions instead of one (hence “twin”), and uses the smaller of the two Q-values to form the targets in the Bellman error loss functions.\n",
    "\n",
    "**Trick Two:** “Delayed” Policy Updates. TD3 updates the policy (and target networks) less frequently than the Q-function. The paper recommends one policy update for every two Q-function updates.\n",
    "\n",
    "**Trick Three:** Target Policy Smoothing. TD3 adds noise to the target action, to make it harder for the policy to exploit Q-function errors by smoothing out Q along changes in action."
   ]
  },
  {
   "cell_type": "markdown",
   "metadata": {},
   "source": [
    "![Model](https://spinningup.openai.com/en/latest/_images/math/52d3d2df4225f9fec06156d6e1d3da26c8b27bc5.svg)"
   ]
  },
  {
   "cell_type": "markdown",
   "metadata": {},
   "source": [
    "### 5. Training Agents"
   ]
  },
  {
   "cell_type": "markdown",
   "metadata": {},
   "source": [
    "#### Hyperparameters\n",
    "BUFFER_SIZE = int(1e6)  # replay buffer size  \n",
    "BATCH_SIZE = 256        # minibatch size  \n",
    "GAMMA = 0.995           # discount factor  \n",
    "TAU = 1e-3              # for soft update of target parameters  \n",
    "LR_ACTOR = 0.1e-3       # learning rate of the actor   \n",
    "LR_CRITIC = 1e-3        # learning rate of the critic  \n",
    "WEIGHT_DECAY = 1e-6     # L2 weight decay  "
   ]
  },
  {
   "cell_type": "code",
   "execution_count": 6,
   "metadata": {},
   "outputs": [],
   "source": [
    "agents =[]\n",
    "\n",
    "for i in range(num_agents):\n",
    "    agents.append(Agent(state_size, action_size, \n",
    "        random_seed = 1, agent_size=1, max_action = 1))"
   ]
  },
  {
   "cell_type": "code",
   "execution_count": 7,
   "metadata": {
    "scrolled": false
   },
   "outputs": [
    {
     "name": "stdout",
     "output_type": "stream",
     "text": [
      "\n",
      "Episode 5\tAverage Score: -0.0420\tScore: -0.0700\n",
      "\n",
      "\n",
      "Episode 10\tAverage Score: -0.0700\tScore: 0.0300\n",
      "\n",
      "\n",
      "Episode 15\tAverage Score: -0.0980\tScore: -0.1500\n",
      "\n",
      "\n",
      "Episode 20\tAverage Score: -0.0635\tScore: 0.0000\n",
      "\n",
      "\n",
      "Episode 25\tAverage Score: -0.0068\tScore: 0.7500\n",
      "\n",
      "\n",
      "Episode 30\tAverage Score: 0.1620\tScore: 1.0600\n",
      "\n",
      "\n",
      "Episode 35\tAverage Score: 0.2614\tScore: 0.9100\n",
      "\n",
      "\n",
      "Episode 40\tAverage Score: 0.3660\tScore: 0.9700\n",
      "\n",
      "\n",
      "Episode 45\tAverage Score: 0.4644\tScore: 1.0800\n",
      "\n",
      "\n",
      "Environment solved in 47 episodes!\tAverage Score: 0.50000\n",
      "\n",
      "Episode 50\tAverage Score: 0.5412\tScore: 1.0800\n",
      "\n",
      "\n",
      "Episode 55\tAverage Score: 0.6078\tScore: 1.1900\n",
      "\n",
      "\n",
      "Episode 60\tAverage Score: 0.6635\tScore: 1.2000\n",
      "\n",
      "\n",
      "Episode 65\tAverage Score: 0.7015\tScore: 1.0600\n",
      "\n",
      "\n",
      "Episode 70\tAverage Score: 0.7456\tScore: 1.3000\n",
      "\n",
      "\n",
      "Episode 75\tAverage Score: 0.7808\tScore: 1.2900\n",
      "\n",
      "\n",
      "Episode 80\tAverage Score: 0.8115\tScore: 1.3000\n",
      "\n",
      "\n",
      "Episode 85\tAverage Score: 0.8389\tScore: 1.2900\n",
      "\n",
      "\n",
      "Episode 90\tAverage Score: 0.8631\tScore: 1.3000\n",
      "\n",
      "\n",
      "Episode 95\tAverage Score: 0.8803\tScore: 1.0900\n",
      "\n",
      "\n",
      "Episode 100\tAverage Score: 0.8967\tScore: 1.1900\n",
      "\n",
      "\n",
      "Episode 105\tAverage Score: 0.9634\tScore: 1.2900\n",
      "\n",
      "\n",
      "Episode 110\tAverage Score: 1.0311\tScore: 1.1900\n",
      "\n",
      "\n",
      "Episode 115\tAverage Score: 1.1036\tScore: 1.2900\n",
      "\n",
      "\n",
      "Episode 120\tAverage Score: 1.1645\tScore: 1.3000\n",
      "\n",
      "\n",
      "Episode 125\tAverage Score: 1.2181\tScore: 1.2900\n",
      "\n",
      "\n",
      "Episode 130\tAverage Score: 1.2317\tScore: 1.3000\n",
      "\n",
      "\n",
      "Episode 135\tAverage Score: 1.2535\tScore: 1.2900\n",
      "\n",
      "\n",
      "Episode 140\tAverage Score: 1.2644\tScore: 1.3000\n",
      "\n",
      "\n",
      "Episode 145\tAverage Score: 1.2654\tScore: 1.2900\n",
      "\n",
      "\n",
      "Episode 150\tAverage Score: 1.2688\tScore: 1.3000\n",
      "\n"
     ]
    }
   ],
   "source": [
    "def ddpg_td3(n_episodes=150, max_t=500, consecutive_episodes = 100, \n",
    "             learn_every = 10, n_experiences = 20, target_avg_score = 0.5, noise = 2.0, noise_grad = 0.999,\n",
    "             num_agents = 2, print_every=5):\n",
    "    \"\"\"Deep Deterministic Policy Gradients DDPG  from Pendulum exercise was employed: \n",
    "       Params:\n",
    "            n_episodes (int): maximum number of training episodes\n",
    "            max_t (int): maximum number of timesteps per episode\n",
    "            consecutive_episodes (int): number of consecutive episodes\n",
    "            learn_every (int): update the network every n timesteps\n",
    "            n_experiences (int): update the netword n times\n",
    "            target_avg_score (int): target avg score of the range of n consecutive_episodes\n",
    "            noise = (float): noise added to actions\n",
    "            noise_grad = noise adjestment per episode\n",
    "            num_agents = number of agents\n",
    "            print_every (int): print the training every n timesteps\n",
    "    \"\"\"\n",
    "    total_scores = [] \n",
    "    scores_windows = deque(maxlen=consecutive_episodes)\n",
    "    scores = [] # list containing scores \n",
    "    save = True\n",
    "    for i_episode in range(1, n_episodes+1):\n",
    "        env_info = env.reset(train_mode=True)[brain_name]\n",
    "        states = env_info.vector_observations\n",
    "        agents_scores = np.zeros(num_agents)\n",
    "        noise_level= noise\n",
    "        noise_gradient = noise_grad\n",
    "        \n",
    "        for t in range(max_t):\n",
    "            actions = []\n",
    "            for i in range(len(states)):\n",
    "                actions.append(agents[i].act(states[i], noise_reduction= noise_level))\n",
    "            noise_level*=noise_grad\n",
    "            noise_level = max(noise_level, 0)\n",
    "            env_info = env.step(actions)[brain_name]           # send all actions to the environment\n",
    "            next_states = env_info.vector_observations         # get next state (for each agent)\n",
    "            rewards = env_info.rewards                         # get reward (for each agent)\n",
    "            dones = env_info.local_done\n",
    "            \n",
    "            for i in range(num_agents):\n",
    "                agents[i].step(states[i], actions[i], rewards[i], next_states[i], dones[i],\n",
    "                               t, learn_every, n_experiences)\n",
    "\n",
    "            states = next_states\n",
    "            agents_scores += rewards\n",
    "\n",
    "        scores_windows.append(np.max(agents_scores))\n",
    "        total_scores.append(agents_scores)\n",
    "        average_score = np.mean(scores_windows)\n",
    "        \n",
    "\n",
    "        if i_episode % print_every == 0:\n",
    "            print('\\n\\rEpisode {}\\tAverage Score: {:.4f}\\tScore: {:.4f}\\n'.format(i_episode, \n",
    "                                                                              average_score, np.max(agents_scores)))\n",
    " \n",
    "        if average_score >=target_avg_score:\n",
    "            if save:\n",
    "                print('\\nEnvironment solved in {:d} episodes!\\tAverage Score: {:.5f}'.format(i_episode, average_score))\n",
    "                for i in range(num_agents):\n",
    "                    torch.save(agents[i].actor_local.state_dict(),  'td3_actor{}.pth'.format(i))\n",
    "                    torch.save(agents[i].critic_local.state_dict(), 'td3_critic{}.pth'.format(i))\n",
    "                save = False   \n",
    "    return total_scores\n",
    "\n",
    "\n",
    "    \n",
    "scores = ddpg_td3()\n",
    "\n",
    "    "
   ]
  },
  {
   "cell_type": "code",
   "execution_count": 33,
   "metadata": {},
   "outputs": [
    {
     "data": {
      "image/png": "[encoded data removed]",
      "text/plain": [
       "<matplotlib.figure.Figure at 0x7f52f898dcf8>"
      ]
     },
     "metadata": {
      "needs_background": "light"
     },
     "output_type": "display_data"
    }
   ],
   "source": [
    "target_avg_score = 0.5\n",
    "\n",
    "fig = plt.figure(figsize=(16,5))\n",
    "ax = fig.add_subplot(121)\n",
    "plt.plot(np.arange(1, len(scores)+1), np.max(scores,axis=1))\n",
    "plt.axhline(y=target_avg_score, color='navy', linestyle='-')\n",
    "plt.title('Score vs Episode')\n",
    "plt.ylabel('Score')\n",
    "plt.xlabel('Episode #')\n",
    "plt.show()"
   ]
  },
  {
   "cell_type": "code",
   "execution_count": 19,
   "metadata": {},
   "outputs": [],
   "source": [
    "env.close()"
   ]
  },
  {
   "cell_type": "markdown",
   "metadata": {},
   "source": [
    "### 6. Future ideas"
   ]
  },
  {
   "cell_type": "markdown",
   "metadata": {},
   "source": [
    "I'd like to understand the implementation of the paper: **On-Policy Trust Region Policy Optimisation with Replay Buffers**, Dmitry Kangin, Nicolas Pugeault.\n",
    "\n",
    "https://arxiv.org/abs/1901.06212\n",
    "    \n",
    "**Summary:**\n",
    "    \n",
    "Building upon the recent success of deep reinforcement learning methods, we investigate the possibility of on-policy reinforcement learning improvement by reusing the data from several consecutive policies. On-policy methods bring many benefits, such as ability to evaluate each resulting policy. However, they usually discard all the information about the policies which existed before. In this work, we propose adaptation of the replay buffer concept, borrowed from the off-policy learning setting, to create the method, combining advantages of on- and off-policy learning. To achieve this, the proposed algorithm generalises the Q-, value and advantage functions for data from multiple policies. The method uses trust region optimisation, while avoiding some of the common problems of the algorithms such as TRPO or ACKTR: it uses hyperparameters to replace the trust region selection heuristics, as well as the trainable covariance matrix instead of the fixed one. In many cases, the method not only improves the results comparing to the state-of-the-art trust region on-policy learning algorithms such as PPO, ACKTR and TRPO, but also with respect to their off-policy counterpart DDPG.    "
   ]
  }
 ],
 "metadata": {
  "kernelspec": {
   "display_name": "Python 3",
   "language": "python",
   "name": "python3"
  },
  "language_info": {
   "codemirror_mode": {
    "name": "ipython",
    "version": 3
   },
   "file_extension": ".py",
   "mimetype": "text/x-python",
   "name": "python",
   "nbconvert_exporter": "python",
   "pygments_lexer": "ipython3",
   "version": "3.6.3"
  }
 },
 "nbformat": 4,
 "nbformat_minor": 2
}
